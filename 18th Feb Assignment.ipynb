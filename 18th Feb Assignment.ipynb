{
 "cells": [
  {
   "cell_type": "code",
   "execution_count": null,
   "id": "f0dccf7c",
   "metadata": {},
   "outputs": [],
   "source": [
    "Q1. What is an API? Give an example, where an API is used in real life."
   ]
  },
  {
   "cell_type": "code",
   "execution_count": null,
   "id": "175db4cf",
   "metadata": {},
   "outputs": [],
   "source": [
    "An API allows two softwate application to interact with each other by sharing data and functionality .\n",
    "An API act as the mediator between two application ,enabling them to communicate with each other .\n",
    "\n",
    "Example of API :\n",
    "     Using the phone pay for payment the electricity bill so phone pay is connect the respected bank application for balance \n",
    "        check and valid id authentication if the both action is True then the payment will take place ."
   ]
  },
  {
   "cell_type": "code",
   "execution_count": null,
   "id": "0a4f355e",
   "metadata": {},
   "outputs": [],
   "source": [
    "Q2. Give advantages and disadvantages of using API."
   ]
  },
  {
   "cell_type": "code",
   "execution_count": null,
   "id": "3cc4de57",
   "metadata": {},
   "outputs": [],
   "source": [
    "Advantages:\n",
    "\n",
    "Integration: APIs allow different software systems to communicate and exchange data with each other, making it easier to \n",
    "    integrate different applications and services.\n",
    "\n",
    "Efficiency: APIs allow for more efficient data exchange and processing, reducing the need for manual data entry or other \n",
    "    time-consuming processes.\n",
    "\n",
    "Customization: APIs can be customized to meet specific business needs, allowing companies to build custom applications that \n",
    "    work seamlessly with their existing systems.\n",
    "\n",
    "Scalability: APIs can be scaled up or down as needed, allowing businesses to handle changing volumes of data or traffic without\n",
    "    having to redesign their entire systems.\n",
    "\n",
    "Innovation: APIs encourage innovation and collaboration by enabling developers to build on top of existing platforms or \n",
    "    services, rather than starting from scratch.\n",
    "\n",
    "\n",
    "Disadvantages:\n",
    "\n",
    "Complexity: APIs can be complex and require specialized knowledge to design, develop, and implement.\n",
    "\n",
    "Security risks: APIs can expose sensitive data and functions to unauthorized users if not designed and implemented correctly,\n",
    "    leading to potential security risks.\n",
    "\n",
    "Dependency: APIs can create a dependency on third-party providers, making it harder to switch providers or move away from a \n",
    "    particular platform.\n",
    "\n",
    "Versioning: Changes in API versions can cause compatibility issues with existing applications, requiring additional development\n",
    "    effort to keep systems up-to-date.\n",
    "\n",
    "Cost: Developing and maintaining APIs can be expensive, especially for smaller businesses or startups, which may not have the\n",
    "    resources to build their own APIs"
   ]
  },
  {
   "cell_type": "code",
   "execution_count": null,
   "id": "0df97eca",
   "metadata": {},
   "outputs": [],
   "source": [
    "Q3. What is a Web API? Differentiate between API and Web API."
   ]
  },
  {
   "cell_type": "code",
   "execution_count": null,
   "id": "a2ba9cfc",
   "metadata": {},
   "outputs": [],
   "source": [
    "A Web API is a set of standard and protocols for accessing Web based software application or web tools it provides a way for\n",
    "different software system to communicate with each other over the internet .\n",
    "\n",
    "Web API Always work on \"HTTP\" Protocols .\n",
    "where as multiple system or a different -2 langauge will be able to communicate different - 2 apllication will be able\n",
    "to communicate for that we need some netrual ground and netrual ground basicaly called API "
   ]
  },
  {
   "cell_type": "code",
   "execution_count": null,
   "id": "e48aaea4",
   "metadata": {},
   "outputs": [],
   "source": [
    "Q4. Explain REST and SOAP Architecture. Mention shortcomings of SOAP."
   ]
  },
  {
   "cell_type": "code",
   "execution_count": null,
   "id": "c8fa2184",
   "metadata": {},
   "outputs": [],
   "source": [
    "REST - Representation State Trasfer.\n",
    "\n",
    "It is a software architecture style for creating SCALABLE web services RESTful web services use the HTTP protocols and return\n",
    "data in the form of JSON or XML RESTful designed to be lightweight and easy to use making it popular choice for \n",
    "building web based application and API .\n",
    "\n",
    "SOAP : Simple Object Access Protocols \n",
    "    \n",
    "It is a protocol for sending and recieving  massage between application soap massage are typically send over HTTP or other \n",
    "transport protocol and are formmated in XML . soap is designed to provide a secure and reliable way for application to \n",
    "communicate with each other making it a popular choice for building WEB based sesrvices .\n",
    "\n"
   ]
  },
  {
   "cell_type": "code",
   "execution_count": null,
   "id": "f7dfa446",
   "metadata": {},
   "outputs": [],
   "source": [
    "Q5. Differentiate between REST and SOAP."
   ]
  },
  {
   "cell_type": "code",
   "execution_count": null,
   "id": "3eec1f39",
   "metadata": {},
   "outputs": [],
   "source": [
    "REST is a simpler, lightweight and more flexible architecture that is suited for a wide range of applications, \n",
    "REST is considered to be simpler and easier to understand and implement\n",
    "REST relies on the underlying transport security protocols such as SSL for security.\n",
    "REST allows for caching, which can improve performance .\n",
    "REST is better suited for transferring smaller payloads\n",
    "REST is an architectural style that uses HTTP protocol for data exchange\n",
    "REST uses HTTP verbs like GET, POST, PUT, DELETE to communicate and transfer data\n",
    "REST can use various data formats such as XML, JSON, plain text, or HTML . \n",
    "\n",
    "\n",
    "\n",
    "SOAP is a more structured, standardized and secure architecture that is best suited for enterprise-level applications\n",
    "that require ahigh level of security and reliability.\n",
    "SOAP is considered to be more complex and requires more effort to design and implement.\n",
    "SOAP provides a higher level of security because it has built-in error handling, and support for WS-Security and SSL\n",
    "SOAP does not support caching.\n",
    "SOAP can handle larger payloads.\n",
    "SOAP is a protocol.\n",
    "SOAP uses XML-based messages to communicate.\n",
    "SOAP uses only XML for message exchange.\n"
   ]
  },
  {
   "cell_type": "code",
   "execution_count": null,
   "id": "c175c0f2",
   "metadata": {},
   "outputs": [],
   "source": []
  },
  {
   "cell_type": "code",
   "execution_count": null,
   "id": "80d31909",
   "metadata": {},
   "outputs": [],
   "source": []
  },
  {
   "cell_type": "code",
   "execution_count": null,
   "id": "d0483e89",
   "metadata": {},
   "outputs": [],
   "source": []
  }
 ],
 "metadata": {
  "kernelspec": {
   "display_name": "Python 3 (ipykernel)",
   "language": "python",
   "name": "python3"
  },
  "language_info": {
   "codemirror_mode": {
    "name": "ipython",
    "version": 3
   },
   "file_extension": ".py",
   "mimetype": "text/x-python",
   "name": "python",
   "nbconvert_exporter": "python",
   "pygments_lexer": "ipython3",
   "version": "3.9.13"
  }
 },
 "nbformat": 4,
 "nbformat_minor": 5
}
